{
 "cells": [
  {
   "cell_type": "code",
   "execution_count": 3,
   "metadata": {},
   "outputs": [],
   "source": [
    "import io\n",
    "import csv\n",
    "import numpy as np\n",
    "\n",
    "#from main_script import read_mhunter_csv, calculate_labelling, read_atomic_composition\n",
    "from SauerFunction import *\n",
    "from SauerClass import Record, Labelling\n",
    "\n",
    "\n",
    "def make_response_string(labelling_list, max_results_length):\n",
    "    \"\"\"Make a string to be passed to make_response(), eventually to be written out as .csv.\n",
    "    \n",
    "    PARAMS\n",
    "    ------\n",
    "    labelling_list: list of label class objects; one per species.\n",
    "    \n",
    "    RETURNS\n",
    "    -------\n",
    "    stream_out: str; comma-separated and \\n newline-delimited string to be written out.\n",
    "    \"\"\"\n",
    "    # Make header row\n",
    "    stream_out = \"Species,Labelling Source,Sample Name,Labelling %,\"\n",
    "    for i in range(max_results_length-1):\n",
    "        stream_out += \"m\" + str(i) + \",\"\n",
    "    stream_out += \"\\n\"\n",
    "\n",
    "    # Make contents\n",
    "    for label in labelling_list:\n",
    "        species = label.get_species()\n",
    "        label_dict = label.get_label_dict()\n",
    "        names = label_dict.keys()\n",
    "        names = sorted(names)\n",
    "        i = 0\n",
    "        for name in names:\n",
    "            for key, value in label_dict.items():\n",
    "                if name == key:\n",
    "                    stream_out += species + ','\n",
    "                    if len(key.split(',')) == 2:\n",
    "                        stream_out += key.split(',')[1].strip('\"') + ','\n",
    "                        stream_out += key.split(',')[0].strip('\"') + ','\n",
    "                    else:\n",
    "                        stream_out += ' ,'\n",
    "                        stream_out += key + ','\n",
    "                    for val in value:\n",
    "                        stream_out += str(val) + ', '\n",
    "                    stream_out += '\\n'\n",
    "    \n",
    "    # Remove all equals-signs\n",
    "    stream_out = stream_out.replace(\"=\", \",\")\n",
    "    \n",
    "    return stream_out"
   ]
  },
  {
   "cell_type": "code",
   "execution_count": 2,
   "metadata": {},
   "outputs": [
    {
     "name": "stdout",
     "output_type": "stream",
     "text": [
      "Could not convert \n",
      "\n"
     ]
    }
   ],
   "source": [
    "# playing with proc.py\n",
    "# Read all the relevant files\n",
    "records = read_mhunter_csv('sample_files/sample_input_data.csv')\n",
    "atomic_composition, N_dict = read_atomic_composition('sample_files/sample_input_formulae.csv')\n",
    "\n",
    "labelling_list = []\n",
    "max_results_length = 0\n",
    "\n",
    "for record in records:\n",
    "    results_dict = calculate_labelling(record, N_dict, atomic_composition)\n",
    "    for key, value in results_dict.items():\n",
    "        if len(value) > max_results_length:\n",
    "            max_results_length = len(value)\n",
    "    labelling_list.append(Labelling(record.get_name(), results_dict))\n"
   ]
  },
  {
   "cell_type": "code",
   "execution_count": 7,
   "metadata": {},
   "outputs": [],
   "source": [
    "stream_out = make_response_string(labelling_list, max_results_length)"
   ]
  },
  {
   "cell_type": "code",
   "execution_count": 10,
   "metadata": {},
   "outputs": [],
   "source": [
    "with open('sample_files/stream_out.csv', 'w') as f:\n",
    "    f.write(stream_out)"
   ]
  },
  {
   "cell_type": "code",
   "execution_count": null,
   "metadata": {},
   "outputs": [],
   "source": [
    "# Write out, the old-fashioned way\n",
    "fp = open('sample_files/out_temp.csv', 'w')\n",
    "\n",
    "fp.write(\"Species, Labelling Source, Sample Name, Labelling %,\")\n",
    "for i in range(max_results_length-1):\n",
    "    fp.write(\"m\" + str(i) + \",\")\n",
    "fp.write(\"\\n\")\n",
    "\n",
    "for label in labelling_list:\n",
    "    species = label.get_species()\n",
    "    label_dict = label.get_label_dict()\n",
    "    names = label_dict.keys()\n",
    "    names = sorted(names)\n",
    "    i = 0\n",
    "    for name in names:\n",
    "        for key, value in label_dict.items():\n",
    "            if name == key:\n",
    "                fp.write(species + ',')\n",
    "                if len(key.split(',')) == 2:\n",
    "                    fp.write(key.split(',')[1].strip('\"') + ',')\n",
    "                    fp.write(key.split(',')[0].strip('\"') + ',')\n",
    "                else:\n",
    "                    fp.write(' ,')\n",
    "                    fp.write(key + ',')\n",
    "                for val in value:\n",
    "                    fp.write(str(val) + ', ')\n",
    "                fp.write('\\n')"
   ]
  },
  {
   "cell_type": "code",
   "execution_count": 11,
   "metadata": {},
   "outputs": [
    {
     "name": "stdout",
     "output_type": "stream",
     "text": [
      "1c1\n",
      "< Species,Labelling Source,Sample Name,Labelling %,m0,m1,m2,m3,m4,m5,m6,\n",
      "---\n",
      "> Species, Labelling Source, Sample Name, Labelling %,m0,m1,m2,m3,m4,m5,m6,\n"
     ]
    }
   ],
   "source": [
    "!diff sample_files/stream_out.csv sample_files/out_temp.csv"
   ]
  },
  {
   "cell_type": "code",
   "execution_count": null,
   "metadata": {},
   "outputs": [],
   "source": []
  }
 ],
 "metadata": {
  "kernelspec": {
   "display_name": "Python 3",
   "language": "python",
   "name": "python3"
  },
  "language_info": {
   "codemirror_mode": {
    "name": "ipython",
    "version": 3
   },
   "file_extension": ".py",
   "mimetype": "text/x-python",
   "name": "python",
   "nbconvert_exporter": "python",
   "pygments_lexer": "ipython3",
   "version": "3.7.4"
  }
 },
 "nbformat": 4,
 "nbformat_minor": 4
}
